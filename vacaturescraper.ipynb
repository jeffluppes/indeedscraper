{
 "cells": [
  {
   "cell_type": "code",
   "execution_count": null,
   "metadata": {},
   "outputs": [],
   "source": [
    "import requests\n",
    "import bs4\n",
    "import re\n",
    "from bs4 import BeautifulSoup\n",
    "import math\n",
    "import pandas as pd\n",
    "import time\n",
    "import os\n",
    "import matplotlib.pyplot as plt\n",
    "plt.rcParams['figure.figsize'] = [18, 12]"
   ]
  },
  {
   "cell_type": "code",
   "execution_count": null,
   "metadata": {},
   "outputs": [],
   "source": [
    "base_url = ''\n",
    "titles = [{\n",
    "    'title': 'data scientist',\n",
    "    'urltitle': 'data+scientist'\n",
    "}, {\n",
    "    'title': 'quantitative analyst',\n",
    "    'urltitle': 'quantitative+analyst'\n",
    "}, {\n",
    "    'title': 'statistician',\n",
    "    'urltitle': 'statistician'\n",
    "}, {\n",
    "    'title': 'data analyst',\n",
    "    'urltitle': 'data+analyst'\n",
    "}, {\n",
    "    'title': 'research scientist',\n",
    "    'urltitle': 'research+scientist'\n",
    "}, {\n",
    "    'title': 'machine learning engineer',\n",
    "    'urltitle': 'machine+learning+engineer'\n",
    "}, {\n",
    "    'title': 'data engineer',\n",
    "    'urltitle': 'data+engineer'\n",
    "}]"
   ]
  },
  {
   "cell_type": "code",
   "execution_count": null,
   "metadata": {},
   "outputs": [],
   "source": [
    "#make output folders if they do not already exist\n",
    "for term in titles:\n",
    "      if not os.path.exists('jobdata/'+format(term['title'])):\n",
    "        os.mkdir('jobdata/'+format(term['title']))"
   ]
  },
  {
   "cell_type": "code",
   "execution_count": null,
   "metadata": {},
   "outputs": [],
   "source": [
    "def storedescription(term, url):\n",
    "    try:\n",
    "        r = requests.get('https://www.indeed.com'+url)\n",
    "        soup = BeautifulSoup(r.text, 'html.parser')\n",
    "        description = soup.find('div', id=\"jobDescriptionText\").get_text()\n",
    "        #print(description)\n",
    "        with open(\"jobdata/\"+term+'/'+format(url.split('=')[1])+\".txt\", \"w\") as text_file:\n",
    "            text_file.write(description)\n",
    "    except:\n",
    "        print(f'error: {e}')"
   ]
  },
  {
   "cell_type": "code",
   "execution_count": null,
   "metadata": {},
   "outputs": [],
   "source": [
    "jobtitles = []\n",
    "urls = []\n",
    "jobclass = []\n",
    "\n",
    "for term in titles:\n",
    "    startlen = len(urls)\n",
    "    try:\n",
    "        r = requests.get('https://www.indeed.com/jobs?q={}&sort=date&limit=50'.format(term['urltitle']))\n",
    "        soup = BeautifulSoup(r.text, 'html.parser')\n",
    "        count_str = soup.find('div', id=\"searchCountPages\").get_text()\n",
    "        max_results = int(count_str.split()[3].replace(',', ''))\n",
    "\n",
    "        # calculate how many pages we need to query\n",
    "        max_results = math.ceil(max_results/50)\n",
    "        time.sleep(1)\n",
    "    except Exception as e:\n",
    "        print(f'error: {e}') \n",
    "\n",
    "    print('Querying {} pages for {}'.format(max_results, term['title']))\n",
    "    for x in range(0, max_results):\n",
    "\n",
    "        try:\n",
    "            split = '&start='+format(x*50)\n",
    "            html = requests.get('https://www.indeed.com/jobs?q={}&sort=date&limit=50+{}'.format(term['urltitle'], split))\n",
    "            soup = BeautifulSoup(html.text, 'html.parser')\n",
    "            for link in soup.findAll('a'):\n",
    "                #print(link.attrs)\n",
    "                try:\n",
    "                    if term['title'].lower() in link.attrs['title'].lower():\n",
    "                        jobtitles.append(link.attrs['title'])\n",
    "                        urls.append(link.attrs['href'])\n",
    "                        jobclass.append(term['title'])\n",
    "                        storedescription(term['title'], link.attrs['href'])\n",
    "                        \n",
    "                except:\n",
    "                    print(f'error: {e}') \n",
    "            time.sleep(1)\n",
    "        except Exception as e:\n",
    "            print(f'error: {e}')\n",
    "\n",
    "    print('.. found {} results for {}'.format(len(urls)-startlen, term['title']))"
   ]
  },
  {
   "cell_type": "code",
   "execution_count": null,
   "metadata": {},
   "outputs": [],
   "source": [
    "from collections import Counter\n",
    "import glob\n",
    "import json\n",
    "\n",
    "#get list of all the txt files in the jobdata folder\n",
    "files = glob.glob(\"jobdata/*/*.txt\")\n",
    "\n",
    "\n",
    "def word_count(filename):\n",
    "    with open(filename, 'r', encoding=\"utf8\", errors='ignore') as f:\n",
    "        c = Counter()\n",
    "        for line in f:\n",
    "            c.update(line.strip().split(' '))\n",
    "        return c\n",
    "    \n",
    "counters = [word_count(filename) for filename in files]\n",
    "\n",
    "# Add all the word counts together:\n",
    "total = sum(counters, Counter())  # sum needs an empty counter to start with\n",
    "\n",
    "with open(\"wordcount.txt\", \"w\", encoding=\"utf8\", errors='ignore') as text_file:\n",
    "    text_file.write(json.dumps(total.most_common()))"
   ]
  },
  {
   "cell_type": "code",
   "execution_count": null,
   "metadata": {},
   "outputs": [],
   "source": [
    "total.most_common(100)"
   ]
  },
  {
   "cell_type": "code",
   "execution_count": null,
   "metadata": {},
   "outputs": [],
   "source": [
    "len(jobtitles)"
   ]
  },
  {
   "cell_type": "code",
   "execution_count": null,
   "metadata": {},
   "outputs": [],
   "source": [
    "df = pd.DataFrame({'title': jobtitles, 'jobclass': jobclass, 'url': urls})"
   ]
  },
  {
   "cell_type": "code",
   "execution_count": null,
   "metadata": {},
   "outputs": [],
   "source": [
    "df['title'].value_counts()"
   ]
  },
  {
   "cell_type": "code",
   "execution_count": null,
   "metadata": {},
   "outputs": [],
   "source": [
    "df['jobclass'].value_counts()"
   ]
  },
  {
   "cell_type": "code",
   "execution_count": null,
   "metadata": {},
   "outputs": [],
   "source": [
    "import seaborn as sns\n",
    "ax = sns.countplot(x=\"jobclass\", data=df)"
   ]
  },
  {
   "cell_type": "code",
   "execution_count": null,
   "metadata": {},
   "outputs": [],
   "source": [
    "len(urls)"
   ]
  },
  {
   "cell_type": "code",
   "execution_count": null,
   "metadata": {},
   "outputs": [],
   "source": [
    "len(jobtitles)"
   ]
  },
  {
   "cell_type": "code",
   "execution_count": null,
   "metadata": {},
   "outputs": [],
   "source": [
    "#go through all the files, and add the text to a list \n",
    "labels = []\n",
    "description = []\n",
    "\n",
    "# r=root, d=directories, f = files\n",
    "for r, d, f in os.walk('jobdata/'):\n",
    "    for file in f:\n",
    "        if file.endswith(\".txt\"):\n",
    "            \n",
    "            with open(os.path.join(r, file),\"r\", encoding=\"utf8\", errors='ignore') as f:\n",
    "                payload = f.read()\n",
    "                if len(payload) > 1:\n",
    "                    description.append(payload)\n",
    "                    labels.append(r.split('/')[1])\n",
    "            #print(file)"
   ]
  },
  {
   "cell_type": "code",
   "execution_count": null,
   "metadata": {},
   "outputs": [],
   "source": [
    "def preprocess(line):\n",
    "    line = line.replace('\\n', ' ') # newlines\n",
    "    line = line.replace('[', ' ') \n",
    "    line = line.replace(']', ' ')\n",
    "    line = line.replace(':', ' ') # We dont need summaries, just give me tokens\n",
    "    line= line.replace('\\t', ' ') #tabs\n",
    "    \n",
    "    # converts line endings in a way that stops the accidental camelcasing\n",
    "    # but leaves terms like SAP intact\n",
    "    line= re.sub(r'([a-z](?=[A-Z])|[A-Z](?=[A-Z][a-z]))', r'\\1 ', line)\n",
    "    \n",
    "    # regex to address the issue of text continuing directly after a period\n",
    "    # instead of a space\n",
    "    line = re.sub(r'\\.(?! )', '. ', re.sub(r' +', ' ', line))\n",
    "    return line"
   ]
  },
  {
   "cell_type": "code",
   "execution_count": null,
   "metadata": {},
   "outputs": [],
   "source": [
    "description[400]"
   ]
  },
  {
   "cell_type": "code",
   "execution_count": null,
   "metadata": {},
   "outputs": [],
   "source": [
    "description = [preprocess(d) for d in description]"
   ]
  },
  {
   "cell_type": "code",
   "execution_count": null,
   "metadata": {},
   "outputs": [],
   "source": [
    "preprocess(description[400])"
   ]
  },
  {
   "cell_type": "code",
   "execution_count": null,
   "metadata": {},
   "outputs": [],
   "source": [
    "len(labels)"
   ]
  },
  {
   "cell_type": "code",
   "execution_count": null,
   "metadata": {},
   "outputs": [],
   "source": [
    "plt.rcParams['figure.figsize'] = [18, 12]"
   ]
  },
  {
   "cell_type": "code",
   "execution_count": null,
   "metadata": {},
   "outputs": [],
   "source": [
    "from sklearn.feature_extraction.text import TfidfVectorizer, CountVectorizer\n",
    "from yellowbrick.text import TSNEVisualizer\n",
    "\n",
    "tfidf = TfidfVectorizer(stop_words='english')\n",
    "\n",
    "X = tfidf.fit_transform(description)\n",
    "y = labels\n",
    "\n",
    "# Create the visualizer and draw the vectors\n",
    "tsne = TSNEVisualizer(decompose_by=75, decompose='svd', colormap='tab20')\n",
    "tsne.fit(X, y)\n",
    "tsne.show()"
   ]
  }
 ],
 "metadata": {
  "kernelspec": {
   "display_name": "Python 3",
   "language": "python",
   "name": "python3"
  },
  "language_info": {
   "codemirror_mode": {
    "name": "ipython",
    "version": 3
   },
   "file_extension": ".py",
   "mimetype": "text/x-python",
   "name": "python",
   "nbconvert_exporter": "python",
   "pygments_lexer": "ipython3",
   "version": "3.7.4"
  }
 },
 "nbformat": 4,
 "nbformat_minor": 4
}
